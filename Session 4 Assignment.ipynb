{
 "cells": [
  {
   "cell_type": "code",
   "execution_count": null,
   "metadata": {},
   "outputs": [],
   "source": [
    "# 1.1 Write a Python Program(with class concepts) to find the area of the triangle using the below formula.  \n",
    "# area = (s*(s-a)*(s-b)*(s-c)) ** 0.5  \n",
    "# Function to take the length of the sides of triangle from user should be defined in the parent class \n",
    "# and function to calculate the area should be defined in subclass.   "
   ]
  },
  {
   "cell_type": "code",
   "execution_count": 6,
   "metadata": {},
   "outputs": [
    {
     "name": "stdout",
     "output_type": "stream",
     "text": [
      "Enter the Length of side 1 : 23\n",
      "Enter the Length of side 2 : 33\n",
      "Enter the Length of side 3 : 34\n",
      "Area of Triangle is : 361.4968879534096 \n"
     ]
    }
   ],
   "source": [
    "#Parent class\n",
    "class Triangle:\n",
    "    def __init__(self,n):  # initialising no.of sides and length of sides\n",
    "        self.n=n  \n",
    "        #Fetching sides input from the user\n",
    "        self.sides = [float(input(\"Enter the Length of side \"+str(i+1)+\" : \")) for i in range(self.n)]\n",
    "\n",
    "#child class    \n",
    "class Area(Triangle):\n",
    "    def __init__(self,args):\n",
    "        super(Area,self).__init__(args)  # Fetching init data from Super class Triangle\n",
    "        \n",
    "    def findarea(self):\n",
    "        [a,b,c]=self.sides                    # Assigning the sides length to a,b and c\n",
    "        s= (a+b+c)/2                          # Calculating the semi perimeter of triangle\n",
    "        tarea = (s*(s-a)*(s-b)*(s-c)) ** 0.5  # Calculating area of triangle \n",
    "        return tarea\n",
    "        \n",
    "    def __str__(self):\n",
    "        return  \"Area of Triangle is : {} \".format(self.findarea())\n",
    "    \n",
    "    \n",
    "    \n",
    "n = 3           # No. of sides in the triangle\n",
    "areaobj = Area(n) # invoking __init__ funtion in Area class\n",
    "print(areaobj)\n"
   ]
  },
  {
   "cell_type": "code",
   "execution_count": null,
   "metadata": {},
   "outputs": [],
   "source": [
    "# 1.2  Write a function filter_long_words() that takes a list of words and an integer n \n",
    "# and returns the list of words that are longer than n.   "
   ]
  },
  {
   "cell_type": "code",
   "execution_count": 2,
   "metadata": {},
   "outputs": [
    {
     "name": "stdout",
     "output_type": "stream",
     "text": [
      "Words list is:['Sathya', 'Assignments', 'Data', 'Science', 'Sessions'] \n",
      "Filtered long Words are: ['Assignments', 'Science', 'Sessions']\n"
     ]
    }
   ],
   "source": [
    "# Function to filter long words\n",
    "def filter_long_words(n,words):\n",
    "    return filter(lambda x: len(x) > n, words) #returns the list of words that are longer than n\n",
    "\n",
    "length=6 # to check words length greater than n\n",
    "wordsList=['Sathya','Assignments','Data','Science','Sessions']\n",
    "print('Words list is:{} '.format(wordsList) )\n",
    "print('Filtered long Words are: {}'.format(list(filter_long_words(length,wordsList))))"
   ]
  },
  {
   "cell_type": "code",
   "execution_count": null,
   "metadata": {},
   "outputs": [],
   "source": [
    "# 2.1  Write a Python program using function concept that maps list of words into a list of integers\n",
    "# representing the lengths of th e corresponding words.\n",
    "# Hint: If a list [ ab,cde,erty] is passed on to the python function output should come as [2,3,4] \n",
    "# Here 2,3 and 4 are the lengths of the words in the list.   "
   ]
  },
  {
   "cell_type": "code",
   "execution_count": 5,
   "metadata": {},
   "outputs": [
    {
     "name": "stdout",
     "output_type": "stream",
     "text": [
      "Words list is : ['my', 'data science', 'session4', 'assignment']\n",
      "Words Length list is: [2, 12, 8, 10] \n"
     ]
    }
   ],
   "source": [
    "#function to convert list of words into list of integers\n",
    "def words_to_len_map(wordsList):\n",
    "    lengths = []  #Empty list\n",
    "    for word in wordsList:\n",
    "        lengths.append(len(word)) #Appending length of words in new list\n",
    "    return lengths\n",
    "\n",
    "words = ['my', 'data science', 'session4','assignment']\n",
    "print('Words list is : {}'.format(words))\n",
    "print('Words Length list is: {} '.format(words_to_len_map(words)))"
   ]
  },
  {
   "cell_type": "code",
   "execution_count": null,
   "metadata": {},
   "outputs": [],
   "source": [
    "# 2.2  Write a Python function which takes a character (i.e. a string of length 1) \n",
    "# and returns True if it is a vowel, False otherwise. "
   ]
  },
  {
   "cell_type": "code",
   "execution_count": 7,
   "metadata": {},
   "outputs": [
    {
     "name": "stdout",
     "output_type": "stream",
     "text": [
      "Enter a character to check for Vowel : a\n"
     ]
    },
    {
     "data": {
      "text/plain": [
       "True"
      ]
     },
     "execution_count": 7,
     "metadata": {},
     "output_type": "execute_result"
    }
   ],
   "source": [
    "import re  # importing regex\n",
    " #function to check for vowel\n",
    "def isVowel(inputChar):\n",
    "    while True:\n",
    "        if(len(inputChar)>1): # Check if string length is greater than 1\n",
    "            print(\"Please Enter a single character!!!\")\n",
    "            break\n",
    "        else:\n",
    "            if re.match(\"[^aeiou]*[aeiou]+$\",inputChar,flags=re.I): # Regular expression to check for vowel\n",
    "                return True      # if vowel, return True\n",
    "            else:\n",
    "                return False     # if consonant, return False\n",
    "    \n",
    "chValue= str(input(\"Enter a character to check for Vowel : \"))\n",
    "isVowel(chValue)     "
   ]
  }
 ],
 "metadata": {
  "kernelspec": {
   "display_name": "Python 3",
   "language": "python",
   "name": "python3"
  },
  "language_info": {
   "codemirror_mode": {
    "name": "ipython",
    "version": 3
   },
   "file_extension": ".py",
   "mimetype": "text/x-python",
   "name": "python",
   "nbconvert_exporter": "python",
   "pygments_lexer": "ipython3",
   "version": "3.7.0"
  }
 },
 "nbformat": 4,
 "nbformat_minor": 2
}
